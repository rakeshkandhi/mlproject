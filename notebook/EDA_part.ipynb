{
 "cells": [
  {
   "cell_type": "markdown",
   "id": "62d1667d-9aac-4d3e-8608-566ef725899d",
   "metadata": {},
   "source": [
    "## 1. Problem Statement\n",
    "- This project understands how the student's performance (test score) is affected by thr other variables such as Gender, Ethnicity, Parental level of Education , Lunch, and Test preparation Course.  "
   ]
  },
  {
   "cell_type": "markdown",
   "id": "feaf39dd-367e-402b-9771-049c43df4e70",
   "metadata": {
    "tags": []
   },
   "source": [
    "## 2. Data Collection \n",
    "- Dataset source  [https://www.kaggle.com/datasets/spscientist/students-performance-in-exams?datasetId=74977](https://www.kaggle.com/datasets/spscientist/students-performance-in-exams?datasetId=74977)\n",
    "- dataset consists of 8 columns and 1000 rows"
   ]
  },
  {
   "cell_type": "markdown",
   "id": "b7fb11a1-1bdc-412b-9d2b-b96ffa3df92f",
   "metadata": {},
   "source": [
    "### 2.1 Import the required datasets\n",
    "1. Pandas\n",
    "2. Numpy\n",
    "3. Matpkotlib\n",
    "4. Seaborn\n",
    "5. Warnings"
   ]
  },
  {
   "cell_type": "code",
   "execution_count": 1,
   "id": "a36538e6-690f-46cd-8010-70498c4e70ff",
   "metadata": {
    "tags": []
   },
   "outputs": [],
   "source": [
    "import pandas as pd\n",
    "import numpy as np\n",
    "import matplotlib.pyplot as plt\n",
    "import seaborn as sns\n",
    "%matplotlib inline\n",
    "\n",
    "import warnings\n",
    "warnings.filterwarnings(\"ignore\")"
   ]
  },
  {
   "cell_type": "markdown",
   "id": "48f60ddf-4da1-4968-80f9-0df677950688",
   "metadata": {},
   "source": [
    "### Importthe dataset"
   ]
  },
  {
   "cell_type": "code",
   "execution_count": 2,
   "id": "d8466b03-1e2f-45c2-8e4b-a19edae263cc",
   "metadata": {
    "tags": []
   },
   "outputs": [],
   "source": [
    "df = pd.read_csv(\"./dataset/study.csv\")"
   ]
  },
  {
   "cell_type": "code",
   "execution_count": 3,
   "id": "74e004eb-ed2e-48c1-b3d5-94f32e689c82",
   "metadata": {
    "tags": []
   },
   "outputs": [
    {
     "name": "stdout",
     "output_type": "stream",
     "text": [
      "<class 'pandas.core.frame.DataFrame'>\n",
      "RangeIndex: 1000 entries, 0 to 999\n",
      "Data columns (total 8 columns):\n",
      " #   Column                       Non-Null Count  Dtype \n",
      "---  ------                       --------------  ----- \n",
      " 0   gender                       1000 non-null   object\n",
      " 1   race_ethnicity               1000 non-null   object\n",
      " 2   parental_level_of_education  1000 non-null   object\n",
      " 3   lunch                        1000 non-null   object\n",
      " 4   test_preparation_course      1000 non-null   object\n",
      " 5   math_score                   1000 non-null   int64 \n",
      " 6   reading_score                1000 non-null   int64 \n",
      " 7   writing_score                1000 non-null   int64 \n",
      "dtypes: int64(3), object(5)\n",
      "memory usage: 62.6+ KB\n"
     ]
    }
   ],
   "source": [
    "df.info()"
   ]
  },
  {
   "cell_type": "code",
   "execution_count": null,
   "id": "2026e690-a91a-4486-acbc-474765a6fd54",
   "metadata": {},
   "outputs": [],
   "source": []
  },
  {
   "cell_type": "code",
   "execution_count": null,
   "id": "b7a40cb3-f21f-4286-aa41-c632382b8733",
   "metadata": {},
   "outputs": [],
   "source": []
  },
  {
   "cell_type": "code",
   "execution_count": null,
   "id": "06b66c16-34bf-435f-be0f-3285db659564",
   "metadata": {},
   "outputs": [],
   "source": []
  }
 ],
 "metadata": {
  "kernelspec": {
   "display_name": "Python 3 (ipykernel)",
   "language": "python",
   "name": "python3"
  },
  "language_info": {
   "codemirror_mode": {
    "name": "ipython",
    "version": 3
   },
   "file_extension": ".py",
   "mimetype": "text/x-python",
   "name": "python",
   "nbconvert_exporter": "python",
   "pygments_lexer": "ipython3",
   "version": "3.10.11"
  }
 },
 "nbformat": 4,
 "nbformat_minor": 5
}
